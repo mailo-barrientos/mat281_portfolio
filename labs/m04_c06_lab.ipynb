{
 "cells": [
  {
   "cell_type": "markdown",
   "metadata": {
    "Collapsed": "false",
    "slideshow": {
     "slide_type": "slide"
    }
   },
   "source": [
    "<img src=\"https://upload.wikimedia.org/wikipedia/commons/4/47/Logo_UTFSM.png\" width=\"200\" alt=\"utfsm-logo\" align=\"left\"/>\n",
    "\n",
    "# MAT281\n",
    "### Aplicaciones de la Matemática en la Ingeniería"
   ]
  },
  {
   "cell_type": "markdown",
   "metadata": {
    "Collapsed": "false",
    "slideshow": {
     "slide_type": "slide"
    }
   },
   "source": [
    "## Módulo 04\n",
    "## Laboratorio Clase 06: Proyectos de Machine Learning"
   ]
  },
  {
   "cell_type": "markdown",
   "metadata": {
    "Collapsed": "false"
   },
   "source": [
    "### Instrucciones\n",
    "\n",
    "\n",
    "* Completa tus datos personales (nombre y rol USM) en siguiente celda.\n",
    "* La escala es de 0 a 4 considerando solo valores enteros.\n",
    "* Debes _pushear_ tus cambios a tu repositorio personal del curso.\n",
    "* Como respaldo, debes enviar un archivo .zip con el siguiente formato `mXX_cYY_lab_apellido_nombre.zip` a alonso.ogueda@gmail.com, debe contener todo lo necesario para que se ejecute correctamente cada celda, ya sea datos, imágenes, scripts, etc.\n",
    "* Se evaluará:\n",
    "    - Soluciones\n",
    "    - Código\n",
    "    - Que Binder esté bien configurado.\n",
    "    - Al presionar  `Kernel -> Restart Kernel and Run All Cells` deben ejecutarse todas las celdas sin error.\n",
    "* __La entrega es al final de esta clase.__"
   ]
  },
  {
   "cell_type": "markdown",
   "metadata": {
    "Collapsed": "false"
   },
   "source": [
    "__Nombre__: Sebastián Barrientos Mansilla\n",
    "\n",
    "__Rol__: 201610009-1"
   ]
  },
  {
   "cell_type": "markdown",
   "metadata": {
    "Collapsed": "false"
   },
   "source": [
    "## GapMinder"
   ]
  },
  {
   "cell_type": "code",
   "execution_count": 1,
   "metadata": {
    "Collapsed": "false"
   },
   "outputs": [],
   "source": [
    "import pandas as pd\n",
    "import altair as alt\n",
    "\n",
    "from vega_datasets import data\n",
    "\n",
    "alt.themes.enable('opaque')\n",
    "\n",
    "%matplotlib inline"
   ]
  },
  {
   "cell_type": "code",
   "execution_count": 2,
   "metadata": {
    "Collapsed": "false"
   },
   "outputs": [
    {
     "data": {
      "text/html": [
       "<div>\n",
       "<style scoped>\n",
       "    .dataframe tbody tr th:only-of-type {\n",
       "        vertical-align: middle;\n",
       "    }\n",
       "\n",
       "    .dataframe tbody tr th {\n",
       "        vertical-align: top;\n",
       "    }\n",
       "\n",
       "    .dataframe thead th {\n",
       "        text-align: right;\n",
       "    }\n",
       "</style>\n",
       "<table border=\"1\" class=\"dataframe\">\n",
       "  <thead>\n",
       "    <tr style=\"text-align: right;\">\n",
       "      <th></th>\n",
       "      <th>country</th>\n",
       "      <th>income</th>\n",
       "      <th>health</th>\n",
       "      <th>population</th>\n",
       "    </tr>\n",
       "  </thead>\n",
       "  <tbody>\n",
       "    <tr>\n",
       "      <td>0</td>\n",
       "      <td>Afghanistan</td>\n",
       "      <td>1925</td>\n",
       "      <td>57.63</td>\n",
       "      <td>32526562</td>\n",
       "    </tr>\n",
       "    <tr>\n",
       "      <td>1</td>\n",
       "      <td>Albania</td>\n",
       "      <td>10620</td>\n",
       "      <td>76.00</td>\n",
       "      <td>2896679</td>\n",
       "    </tr>\n",
       "    <tr>\n",
       "      <td>2</td>\n",
       "      <td>Algeria</td>\n",
       "      <td>13434</td>\n",
       "      <td>76.50</td>\n",
       "      <td>39666519</td>\n",
       "    </tr>\n",
       "    <tr>\n",
       "      <td>3</td>\n",
       "      <td>Andorra</td>\n",
       "      <td>46577</td>\n",
       "      <td>84.10</td>\n",
       "      <td>70473</td>\n",
       "    </tr>\n",
       "    <tr>\n",
       "      <td>4</td>\n",
       "      <td>Angola</td>\n",
       "      <td>7615</td>\n",
       "      <td>61.00</td>\n",
       "      <td>25021974</td>\n",
       "    </tr>\n",
       "  </tbody>\n",
       "</table>\n",
       "</div>"
      ],
      "text/plain": [
       "       country  income  health  population\n",
       "0  Afghanistan    1925   57.63    32526562\n",
       "1      Albania   10620   76.00     2896679\n",
       "2      Algeria   13434   76.50    39666519\n",
       "3      Andorra   46577   84.10       70473\n",
       "4       Angola    7615   61.00    25021974"
      ]
     },
     "execution_count": 2,
     "metadata": {},
     "output_type": "execute_result"
    }
   ],
   "source": [
    "gapminder = data.gapminder_health_income()\n",
    "gapminder.head()"
   ]
  },
  {
   "cell_type": "markdown",
   "metadata": {
    "Collapsed": "false"
   },
   "source": [
    "### 1. Análisis exploratorio (1 pto)\n",
    "\n",
    "Como mínimo, realizar un `describe` del dataframe y una visualización adecuada, una _scatter matrix_ con los valores numéricos."
   ]
  },
  {
   "cell_type": "code",
   "execution_count": 3,
   "metadata": {
    "Collapsed": "false"
   },
   "outputs": [
    {
     "data": {
      "text/html": [
       "<div>\n",
       "<style scoped>\n",
       "    .dataframe tbody tr th:only-of-type {\n",
       "        vertical-align: middle;\n",
       "    }\n",
       "\n",
       "    .dataframe tbody tr th {\n",
       "        vertical-align: top;\n",
       "    }\n",
       "\n",
       "    .dataframe thead th {\n",
       "        text-align: right;\n",
       "    }\n",
       "</style>\n",
       "<table border=\"1\" class=\"dataframe\">\n",
       "  <thead>\n",
       "    <tr style=\"text-align: right;\">\n",
       "      <th></th>\n",
       "      <th>income</th>\n",
       "      <th>health</th>\n",
       "      <th>population</th>\n",
       "    </tr>\n",
       "  </thead>\n",
       "  <tbody>\n",
       "    <tr>\n",
       "      <td>count</td>\n",
       "      <td>187.000000</td>\n",
       "      <td>187.000000</td>\n",
       "      <td>1.870000e+02</td>\n",
       "    </tr>\n",
       "    <tr>\n",
       "      <td>mean</td>\n",
       "      <td>17232.240642</td>\n",
       "      <td>71.673262</td>\n",
       "      <td>3.908887e+07</td>\n",
       "    </tr>\n",
       "    <tr>\n",
       "      <td>std</td>\n",
       "      <td>19310.632882</td>\n",
       "      <td>7.748959</td>\n",
       "      <td>1.432898e+08</td>\n",
       "    </tr>\n",
       "    <tr>\n",
       "      <td>min</td>\n",
       "      <td>599.000000</td>\n",
       "      <td>48.500000</td>\n",
       "      <td>5.299300e+04</td>\n",
       "    </tr>\n",
       "    <tr>\n",
       "      <td>25%</td>\n",
       "      <td>3585.500000</td>\n",
       "      <td>65.500000</td>\n",
       "      <td>2.248920e+06</td>\n",
       "    </tr>\n",
       "    <tr>\n",
       "      <td>50%</td>\n",
       "      <td>10996.000000</td>\n",
       "      <td>73.130000</td>\n",
       "      <td>8.544586e+06</td>\n",
       "    </tr>\n",
       "    <tr>\n",
       "      <td>75%</td>\n",
       "      <td>23834.000000</td>\n",
       "      <td>77.700000</td>\n",
       "      <td>2.769388e+07</td>\n",
       "    </tr>\n",
       "    <tr>\n",
       "      <td>max</td>\n",
       "      <td>132877.000000</td>\n",
       "      <td>84.100000</td>\n",
       "      <td>1.376049e+09</td>\n",
       "    </tr>\n",
       "  </tbody>\n",
       "</table>\n",
       "</div>"
      ],
      "text/plain": [
       "              income      health    population\n",
       "count     187.000000  187.000000  1.870000e+02\n",
       "mean    17232.240642   71.673262  3.908887e+07\n",
       "std     19310.632882    7.748959  1.432898e+08\n",
       "min       599.000000   48.500000  5.299300e+04\n",
       "25%      3585.500000   65.500000  2.248920e+06\n",
       "50%     10996.000000   73.130000  8.544586e+06\n",
       "75%     23834.000000   77.700000  2.769388e+07\n",
       "max    132877.000000   84.100000  1.376049e+09"
      ]
     },
     "execution_count": 3,
     "metadata": {},
     "output_type": "execute_result"
    }
   ],
   "source": [
    "gapminder.describe()"
   ]
  },
  {
   "cell_type": "code",
   "execution_count": 4,
   "metadata": {
    "Collapsed": "false"
   },
   "outputs": [
    {
     "data": {
      "application/vnd.vegalite.v3+json": {
       "$schema": "https://vega.github.io/schema/vega-lite/v3.4.0.json",
       "config": {
        "background": "white",
        "mark": {
         "tooltip": null
        },
        "view": {
         "height": 300,
         "width": 400
        }
       },
       "datasets": {
        "data-7e3b7ef5d72a8470b0044710e8a24cca": [
         {
          "country": "Afghanistan",
          "health": 57.63,
          "income": 1925,
          "population": 32526562
         },
         {
          "country": "Albania",
          "health": 76,
          "income": 10620,
          "population": 2896679
         },
         {
          "country": "Algeria",
          "health": 76.5,
          "income": 13434,
          "population": 39666519
         },
         {
          "country": "Andorra",
          "health": 84.1,
          "income": 46577,
          "population": 70473
         },
         {
          "country": "Angola",
          "health": 61,
          "income": 7615,
          "population": 25021974
         },
         {
          "country": "Antigua and Barbuda",
          "health": 75.2,
          "income": 21049,
          "population": 91818
         },
         {
          "country": "Argentina",
          "health": 76.2,
          "income": 17344,
          "population": 43416755
         },
         {
          "country": "Armenia",
          "health": 74.4,
          "income": 7763,
          "population": 3017712
         },
         {
          "country": "Australia",
          "health": 81.8,
          "income": 44056,
          "population": 23968973
         },
         {
          "country": "Austria",
          "health": 81,
          "income": 44401,
          "population": 8544586
         },
         {
          "country": "Azerbaijan",
          "health": 72.9,
          "income": 16986,
          "population": 9753968
         },
         {
          "country": "Bahamas",
          "health": 72.3,
          "income": 22818,
          "population": 388019
         },
         {
          "country": "Bahrain",
          "health": 79.2,
          "income": 44138,
          "population": 1377237
         },
         {
          "country": "Bangladesh",
          "health": 70.1,
          "income": 3161,
          "population": 160995642
         },
         {
          "country": "Barbados",
          "health": 75.8,
          "income": 12984,
          "population": 284215
         },
         {
          "country": "Belarus",
          "health": 70.4,
          "income": 17415,
          "population": 9495826
         },
         {
          "country": "Belgium",
          "health": 80.4,
          "income": 41240,
          "population": 11299192
         },
         {
          "country": "Belize",
          "health": 70,
          "income": 8501,
          "population": 359287
         },
         {
          "country": "Benin",
          "health": 65.5,
          "income": 1830,
          "population": 10879829
         },
         {
          "country": "Bhutan",
          "health": 70.2,
          "income": 7983,
          "population": 774830
         },
         {
          "country": "Bolivia",
          "health": 72.3,
          "income": 6295,
          "population": 10724705
         },
         {
          "country": "Bosnia and Herzegovina",
          "health": 77.9,
          "income": 9833,
          "population": 3810416
         },
         {
          "country": "Botswana",
          "health": 66.4,
          "income": 17196,
          "population": 2262485
         },
         {
          "country": "Brazil",
          "health": 75.6,
          "income": 15441,
          "population": 207847528
         },
         {
          "country": "Brunei",
          "health": 78.7,
          "income": 73003,
          "population": 423188
         },
         {
          "country": "Bulgaria",
          "health": 74.9,
          "income": 16371,
          "population": 7149787
         },
         {
          "country": "Burkina Faso",
          "health": 62.8,
          "income": 1654,
          "population": 18105570
         },
         {
          "country": "Burundi",
          "health": 60.4,
          "income": 777,
          "population": 11178921
         },
         {
          "country": "Cambodia",
          "health": 68.4,
          "income": 3267,
          "population": 15577899
         },
         {
          "country": "Cameroon",
          "health": 59.5,
          "income": 2897,
          "population": 23344179
         },
         {
          "country": "Canada",
          "health": 81.7,
          "income": 43294,
          "population": 35939927
         },
         {
          "country": "Cape Verde",
          "health": 74.6,
          "income": 6514,
          "population": 520502
         },
         {
          "country": "Central African Republic",
          "health": 53.8,
          "income": 599,
          "population": 4900274
         },
         {
          "country": "Chad",
          "health": 57.7,
          "income": 2191,
          "population": 14037472
         },
         {
          "country": "Chile",
          "health": 79.3,
          "income": 22465,
          "population": 17948141
         },
         {
          "country": "China",
          "health": 76.9,
          "income": 13334,
          "population": 1376048943
         },
         {
          "country": "Colombia",
          "health": 75.8,
          "income": 12761,
          "population": 48228704
         },
         {
          "country": "Comoros",
          "health": 64.1,
          "income": 1472,
          "population": 788474
         },
         {
          "country": "Congo, Dem. Rep.",
          "health": 58.3,
          "income": 809,
          "population": 77266814
         },
         {
          "country": "Congo, Rep.",
          "health": 61.9,
          "income": 6220,
          "population": 4620330
         },
         {
          "country": "Costa Rica",
          "health": 80,
          "income": 14132,
          "population": 4807850
         },
         {
          "country": "Cote d'Ivoire",
          "health": 60.33,
          "income": 3491,
          "population": 22701556
         },
         {
          "country": "Croatia",
          "health": 78,
          "income": 20260,
          "population": 4240317
         },
         {
          "country": "Cuba",
          "health": 78.5,
          "income": 21291,
          "population": 11389562
         },
         {
          "country": "Cyprus",
          "health": 82.6,
          "income": 29797,
          "population": 1165300
         },
         {
          "country": "Czech Republic",
          "health": 78.6,
          "income": 29437,
          "population": 10543186
         },
         {
          "country": "Denmark",
          "health": 80.1,
          "income": 43495,
          "population": 5669081
         },
         {
          "country": "Djibouti",
          "health": 64.63,
          "income": 3139,
          "population": 887861
         },
         {
          "country": "Dominica",
          "health": 74.6,
          "income": 10503,
          "population": 72680
         },
         {
          "country": "Dominican Republic",
          "health": 73.8,
          "income": 12837,
          "population": 10528391
         },
         {
          "country": "Ecuador",
          "health": 75.2,
          "income": 10996,
          "population": 16144363
         },
         {
          "country": "Egypt",
          "health": 71.3,
          "income": 11031,
          "population": 91508084
         },
         {
          "country": "El Salvador",
          "health": 74.1,
          "income": 7776,
          "population": 6126583
         },
         {
          "country": "Equatorial Guinea",
          "health": 60.63,
          "income": 31087,
          "population": 845060
         },
         {
          "country": "Eritrea",
          "health": 62.9,
          "income": 1129,
          "population": 5227791
         },
         {
          "country": "Estonia",
          "health": 76.8,
          "income": 26812,
          "population": 1312558
         },
         {
          "country": "Ethiopia",
          "health": 63.6,
          "income": 1520,
          "population": 99390750
         },
         {
          "country": "Fiji",
          "health": 66.3,
          "income": 7925,
          "population": 892145
         },
         {
          "country": "Finland",
          "health": 80.8,
          "income": 38923,
          "population": 5503457
         },
         {
          "country": "France",
          "health": 81.9,
          "income": 37599,
          "population": 64395345
         },
         {
          "country": "Gabon",
          "health": 60.53,
          "income": 18627,
          "population": 1725292
         },
         {
          "country": "Gambia",
          "health": 65.1,
          "income": 1644,
          "population": 1990924
         },
         {
          "country": "Georgia",
          "health": 73.3,
          "income": 7474,
          "population": 3999812
         },
         {
          "country": "Germany",
          "health": 81.1,
          "income": 44053,
          "population": 80688545
         },
         {
          "country": "Ghana",
          "health": 65.5,
          "income": 4099,
          "population": 27409893
         },
         {
          "country": "Greece",
          "health": 79.8,
          "income": 25430,
          "population": 10954617
         },
         {
          "country": "Grenada",
          "health": 71.7,
          "income": 11593,
          "population": 106825
         },
         {
          "country": "Guatemala",
          "health": 73.1,
          "income": 7279,
          "population": 16342897
         },
         {
          "country": "Guinea",
          "health": 60.8,
          "income": 1225,
          "population": 12608590
         },
         {
          "country": "Guinea-Bissau",
          "health": 53.4,
          "income": 1386,
          "population": 1844325
         },
         {
          "country": "Guyana",
          "health": 64.4,
          "income": 6816,
          "population": 767085
         },
         {
          "country": "Haiti",
          "health": 65.3,
          "income": 1710,
          "population": 10711067
         },
         {
          "country": "Honduras",
          "health": 72.4,
          "income": 4270,
          "population": 8075060
         },
         {
          "country": "Hungary",
          "health": 76.2,
          "income": 24200,
          "population": 9855023
         },
         {
          "country": "Iceland",
          "health": 82.8,
          "income": 42182,
          "population": 329425
         },
         {
          "country": "India",
          "health": 66.8,
          "income": 5903,
          "population": 1311050527
         },
         {
          "country": "Indonesia",
          "health": 70.9,
          "income": 10504,
          "population": 257563815
         },
         {
          "country": "Iran",
          "health": 78.5,
          "income": 15573,
          "population": 79109272
         },
         {
          "country": "Iraq",
          "health": 72.1,
          "income": 14646,
          "population": 36423395
         },
         {
          "country": "Ireland",
          "health": 80.4,
          "income": 47758,
          "population": 4688465
         },
         {
          "country": "Israel",
          "health": 82.4,
          "income": 31590,
          "population": 8064036
         },
         {
          "country": "Italy",
          "health": 82.1,
          "income": 33297,
          "population": 59797685
         },
         {
          "country": "Jamaica",
          "health": 75.5,
          "income": 8606,
          "population": 2793335
         },
         {
          "country": "Japan",
          "health": 83.5,
          "income": 36162,
          "population": 126573481
         },
         {
          "country": "Jordan",
          "health": 78.3,
          "income": 11752,
          "population": 7594547
         },
         {
          "country": "Kazakhstan",
          "health": 68.2,
          "income": 23468,
          "population": 17625226
         },
         {
          "country": "Kenya",
          "health": 66.63,
          "income": 2898,
          "population": 46050302
         },
         {
          "country": "Kiribati",
          "health": 62.4,
          "income": 1824,
          "population": 112423
         },
         {
          "country": "Kuwait",
          "health": 80.7,
          "income": 82633,
          "population": 3892115
         },
         {
          "country": "Kyrgyz Republic",
          "health": 69,
          "income": 3245,
          "population": 5939962
         },
         {
          "country": "Lao",
          "health": 66.4,
          "income": 5212,
          "population": 6802023
         },
         {
          "country": "Latvia",
          "health": 75.7,
          "income": 23282,
          "population": 1970503
         },
         {
          "country": "Lebanon",
          "health": 78.5,
          "income": 17050,
          "population": 5850743
         },
         {
          "country": "Lesotho",
          "health": 48.5,
          "income": 2598,
          "population": 2135022
         },
         {
          "country": "Liberia",
          "health": 63.9,
          "income": 958,
          "population": 4503438
         },
         {
          "country": "Libya",
          "health": 76.2,
          "income": 17261,
          "population": 6278438
         },
         {
          "country": "Lithuania",
          "health": 75.4,
          "income": 26665,
          "population": 2878405
         },
         {
          "country": "Luxembourg",
          "health": 81.1,
          "income": 88314,
          "population": 567110
         },
         {
          "country": "Macedonia, FYR",
          "health": 77,
          "income": 12547,
          "population": 2078453
         },
         {
          "country": "Madagascar",
          "health": 64.7,
          "income": 1400,
          "population": 24235390
         },
         {
          "country": "Malawi",
          "health": 60.22,
          "income": 799,
          "population": 17215232
         },
         {
          "country": "Malaysia",
          "health": 75.1,
          "income": 24320,
          "population": 30331007
         },
         {
          "country": "Maldives",
          "health": 79.5,
          "income": 14408,
          "population": 363657
         },
         {
          "country": "Mali",
          "health": 57.6,
          "income": 1684,
          "population": 17599694
         },
         {
          "country": "Malta",
          "health": 82.1,
          "income": 30265,
          "population": 418670
         },
         {
          "country": "Marshall Islands",
          "health": 65.1,
          "income": 3661,
          "population": 52993
         },
         {
          "country": "Mauritania",
          "health": 65.7,
          "income": 3877,
          "population": 4067564
         },
         {
          "country": "Mauritius",
          "health": 73.9,
          "income": 18350,
          "population": 1273212
         },
         {
          "country": "Mexico",
          "health": 74.5,
          "income": 16850,
          "population": 127017224
         },
         {
          "country": "Micronesia, Fed. Sts.",
          "health": 67,
          "income": 3510,
          "population": 104460
         },
         {
          "country": "Moldova",
          "health": 72.7,
          "income": 4896,
          "population": 4068897
         },
         {
          "country": "Mongolia",
          "health": 65.3,
          "income": 11819,
          "population": 2959134
         },
         {
          "country": "Montenegro",
          "health": 75.8,
          "income": 14833,
          "population": 625781
         },
         {
          "country": "Morocco",
          "health": 74.7,
          "income": 7319,
          "population": 34377511
         },
         {
          "country": "Mozambique",
          "health": 56.4,
          "income": 1176,
          "population": 27977863
         },
         {
          "country": "Myanmar",
          "health": 67.9,
          "income": 4012,
          "population": 53897154
         },
         {
          "country": "Namibia",
          "health": 61,
          "income": 10040,
          "population": 2458830
         },
         {
          "country": "Nepal",
          "health": 71.2,
          "income": 2352,
          "population": 28513700
         },
         {
          "country": "Netherlands",
          "health": 80.6,
          "income": 45784,
          "population": 16924929
         },
         {
          "country": "New Zealand",
          "health": 80.6,
          "income": 34186,
          "population": 4528526
         },
         {
          "country": "Nicaragua",
          "health": 76.8,
          "income": 4712,
          "population": 6082032
         },
         {
          "country": "Niger",
          "health": 62.2,
          "income": 943,
          "population": 19899120
         },
         {
          "country": "Nigeria",
          "health": 61.33,
          "income": 5727,
          "population": 182201962
         },
         {
          "country": "North Korea",
          "health": 71.4,
          "income": 1390,
          "population": 25155317
         },
         {
          "country": "Norway",
          "health": 81.6,
          "income": 64304,
          "population": 5210967
         },
         {
          "country": "Oman",
          "health": 75.7,
          "income": 48226,
          "population": 4490541
         },
         {
          "country": "Pakistan",
          "health": 66.5,
          "income": 4743,
          "population": 188924874
         },
         {
          "country": "Panama",
          "health": 78.2,
          "income": 20485,
          "population": 3929141
         },
         {
          "country": "Papua New Guinea",
          "health": 60.6,
          "income": 2529,
          "population": 7619321
         },
         {
          "country": "Paraguay",
          "health": 73.9,
          "income": 8219,
          "population": 6639123
         },
         {
          "country": "Peru",
          "health": 77.5,
          "income": 11903,
          "population": 31376670
         },
         {
          "country": "Philippines",
          "health": 70.2,
          "income": 6876,
          "population": 100699395
         },
         {
          "country": "Poland",
          "health": 77.3,
          "income": 24787,
          "population": 38611794
         },
         {
          "country": "Portugal",
          "health": 79.8,
          "income": 26437,
          "population": 10349803
         },
         {
          "country": "Qatar",
          "health": 82,
          "income": 132877,
          "population": 2235355
         },
         {
          "country": "Romania",
          "health": 76.8,
          "income": 19203,
          "population": 19511324
         },
         {
          "country": "Russia",
          "health": 73.13,
          "income": 23038,
          "population": 143456918
         },
         {
          "country": "Rwanda",
          "health": 66.53,
          "income": 1549,
          "population": 11609666
         },
         {
          "country": "Samoa",
          "health": 72.2,
          "income": 5558,
          "population": 193228
         },
         {
          "country": "Sao Tome and Principe",
          "health": 68.8,
          "income": 3003,
          "population": 190344
         },
         {
          "country": "Saudi Arabia",
          "health": 78.1,
          "income": 52469,
          "population": 31540372
         },
         {
          "country": "Senegal",
          "health": 66.1,
          "income": 2251,
          "population": 15129273
         },
         {
          "country": "Serbia",
          "health": 78.1,
          "income": 12908,
          "population": 8850975
         },
         {
          "country": "Seychelles",
          "health": 73.7,
          "income": 25684,
          "population": 96471
         },
         {
          "country": "Sierra Leone",
          "health": 58.5,
          "income": 2085,
          "population": 6453184
         },
         {
          "country": "Singapore",
          "health": 82.1,
          "income": 80794,
          "population": 5603740
         },
         {
          "country": "Slovak Republic",
          "health": 76.4,
          "income": 27204,
          "population": 5426258
         },
         {
          "country": "Slovenia",
          "health": 80.2,
          "income": 28550,
          "population": 2067526
         },
         {
          "country": "Solomon Islands",
          "health": 64.1,
          "income": 2047,
          "population": 583591
         },
         {
          "country": "Somalia",
          "health": 58.7,
          "income": 624,
          "population": 10787104
         },
         {
          "country": "South Africa",
          "health": 63.72,
          "income": 12509,
          "population": 54490406
         },
         {
          "country": "South Korea",
          "health": 80.7,
          "income": 34644,
          "population": 50293439
         },
         {
          "country": "South Sudan",
          "health": 58,
          "income": 3047,
          "population": 12339812
         },
         {
          "country": "Spain",
          "health": 81.7,
          "income": 32979,
          "population": 46121699
         },
         {
          "country": "Sri Lanka",
          "health": 76.5,
          "income": 10624,
          "population": 20715010
         },
         {
          "country": "St. Lucia",
          "health": 74.5,
          "income": 9997,
          "population": 184999
         },
         {
          "country": "St. Vincent and the Grenadines",
          "health": 72.9,
          "income": 10435,
          "population": 109462
         },
         {
          "country": "Sudan",
          "health": 69.5,
          "income": 3975,
          "population": 40234882
         },
         {
          "country": "Suriname",
          "health": 70.5,
          "income": 17125,
          "population": 542975
         },
         {
          "country": "Swaziland",
          "health": 51.5,
          "income": 6095,
          "population": 1286970
         },
         {
          "country": "Sweden",
          "health": 82,
          "income": 44892,
          "population": 9779426
         },
         {
          "country": "Switzerland",
          "health": 82.9,
          "income": 56118,
          "population": 8298663
         },
         {
          "country": "Syria",
          "health": 70.26,
          "income": 4637,
          "population": 18502413
         },
         {
          "country": "Tajikistan",
          "health": 71,
          "income": 2582,
          "population": 8481855
         },
         {
          "country": "Tanzania",
          "health": 63.43,
          "income": 2571,
          "population": 53470420
         },
         {
          "country": "Thailand",
          "health": 75.1,
          "income": 14512,
          "population": 67959359
         },
         {
          "country": "Timor-Leste",
          "health": 72.4,
          "income": 2086,
          "population": 1184765
         },
         {
          "country": "Togo",
          "health": 64.23,
          "income": 1433,
          "population": 7304578
         },
         {
          "country": "Tonga",
          "health": 70.5,
          "income": 5069,
          "population": 106170
         },
         {
          "country": "Trinidad and Tobago",
          "health": 71.4,
          "income": 30113,
          "population": 1360088
         },
         {
          "country": "Tunisia",
          "health": 77.3,
          "income": 11126,
          "population": 11253554
         },
         {
          "country": "Turkey",
          "health": 76.5,
          "income": 19360,
          "population": 78665830
         },
         {
          "country": "Turkmenistan",
          "health": 67.9,
          "income": 15865,
          "population": 5373502
         },
         {
          "country": "Uganda",
          "health": 60.8,
          "income": 1680,
          "population": 39032383
         },
         {
          "country": "Ukraine",
          "health": 72.1,
          "income": 8449,
          "population": 44823765
         },
         {
          "country": "United Arab Emirates",
          "health": 76.6,
          "income": 60749,
          "population": 9156963
         },
         {
          "country": "United Kingdom",
          "health": 81.4,
          "income": 38225,
          "population": 64715810
         },
         {
          "country": "United States",
          "health": 79.1,
          "income": 53354,
          "population": 321773631
         },
         {
          "country": "Uruguay",
          "health": 77.3,
          "income": 20438,
          "population": 3431555
         },
         {
          "country": "Uzbekistan",
          "health": 70.1,
          "income": 5598,
          "population": 29893488
         },
         {
          "country": "Vanuatu",
          "health": 65,
          "income": 2912,
          "population": 264652
         },
         {
          "country": "Venezuela",
          "health": 75.8,
          "income": 15753,
          "population": 31108083
         },
         {
          "country": "Vietnam",
          "health": 76.5,
          "income": 5623,
          "population": 93447601
         },
         {
          "country": "West Bank and Gaza",
          "health": 75.2,
          "income": 4319,
          "population": 4668466
         },
         {
          "country": "Yemen",
          "health": 67.6,
          "income": 3887,
          "population": 26832215
         },
         {
          "country": "Zambia",
          "health": 58.96,
          "income": 4034,
          "population": 16211767
         },
         {
          "country": "Zimbabwe",
          "health": 60.01,
          "income": 1801,
          "population": 15602751
         }
        ]
       },
       "repeat": {
        "column": [
         "population",
         "health",
         "income"
        ],
        "row": [
         "income",
         "health",
         "population"
        ]
       },
       "spec": {
        "data": {
         "name": "data-7e3b7ef5d72a8470b0044710e8a24cca"
        },
        "encoding": {
         "color": {
          "field": "country",
          "type": "nominal"
         },
         "x": {
          "field": {
           "repeat": "column"
          },
          "type": "quantitative"
         },
         "y": {
          "field": {
           "repeat": "row"
          },
          "type": "quantitative"
         }
        },
        "height": 150,
        "mark": {
         "opacity": 0.5,
         "type": "circle"
        },
        "width": 150
       }
      },
      "image/png": "[encoded data removed]",
      "text/plain": [
       "<VegaLite 3 object>\n",
       "\n",
       "If you see this message, it means the renderer has not been properly enabled\n",
       "for the frontend that you are using. For more information, see\n",
       "https://altair-viz.github.io/user_guide/troubleshooting.html\n"
      ]
     },
     "execution_count": 4,
     "metadata": {},
     "output_type": "execute_result"
    }
   ],
   "source": [
    "alt.Chart(gapminder).mark_circle(opacity=0.5).encode(\n",
    "    alt.X(alt.repeat(\"column\"), type='quantitative'),\n",
    "    alt.Y(alt.repeat(\"row\"), type='quantitative'),\n",
    "    color='country:N'\n",
    ").properties(\n",
    "    width=150,\n",
    "    height=150\n",
    ").repeat(\n",
    "    row=['income','health','population'],\n",
    "    column=['population','health','income']\n",
    ")"
   ]
  },
  {
   "cell_type": "markdown",
   "metadata": {
    "Collapsed": "false"
   },
   "source": [
    "### 2. Preprocesamiento (1 pto)"
   ]
  },
  {
   "cell_type": "markdown",
   "metadata": {
    "Collapsed": "false"
   },
   "source": [
    "Aplicar un escalamiento a los datos antes de aplicar nuestro algoritmo de clustering. Para ello, definir la variable `X_raw` que corresponde a un `numpy.array` con los valores del dataframe `gapminder` en las columnas _income_, _health_ y  _population_. Luego, definir la variable `X` que deben ser los datos escalados de `X_raw`."
   ]
  },
  {
   "cell_type": "code",
   "execution_count": 5,
   "metadata": {
    "Collapsed": "false"
   },
   "outputs": [],
   "source": [
    "from sklearn.preprocessing import StandardScaler\n",
    "import numpy as np"
   ]
  },
  {
   "cell_type": "code",
   "execution_count": 6,
   "metadata": {
    "Collapsed": "false"
   },
   "outputs": [],
   "source": [
    "X_raw = np.array(gapminder[['income','health','population']])\n",
    "X = StandardScaler().fit_transform(X_raw)"
   ]
  },
  {
   "cell_type": "markdown",
   "metadata": {
    "Collapsed": "false"
   },
   "source": [
    "### 3. Clustering (1 pto)"
   ]
  },
  {
   "cell_type": "code",
   "execution_count": 7,
   "metadata": {
    "Collapsed": "false"
   },
   "outputs": [],
   "source": [
    "from sklearn.cluster import KMeans"
   ]
  },
  {
   "cell_type": "markdown",
   "metadata": {
    "Collapsed": "false"
   },
   "source": [
    "Definir un _estimator_ `KMeans` con `k=3` y `random_state=42`, luego ajustar con `X` y finalmente, agregar los _labels_ obtenidos a una nueva columna del dataframe `gapminder` llamada `cluster`. Finalmente, realizar el mismo gráfico del principio pero coloreado por los clusters obtenidos.\n",
    "\n"
   ]
  },
  {
   "cell_type": "code",
   "execution_count": 8,
   "metadata": {
    "Collapsed": "false"
   },
   "outputs": [],
   "source": [
    "k = 3\n",
    "kmeans =KMeans(n_clusters = k,random_state=42)\n",
    "kmeans.fit(X)\n",
    "clusters = kmeans.labels_\n",
    "gapminder = gapminder.assign(cluster = clusters)"
   ]
  },
  {
   "cell_type": "code",
   "execution_count": 9,
   "metadata": {
    "Collapsed": "false"
   },
   "outputs": [
    {
     "data": {
      "application/vnd.vegalite.v3+json": {
       "$schema": "https://vega.github.io/schema/vega-lite/v3.4.0.json",
       "config": {
        "background": "white",
        "mark": {
         "tooltip": null
        },
        "view": {
         "height": 300,
         "width": 400
        }
       },
       "datasets": {
        "data-b4eab7f2a5ded6b5f9a4430cf193a51b": [
         {
          "cluster": 1,
          "country": "Afghanistan",
          "health": 57.63,
          "income": 1925,
          "population": 32526562
         },
         {
          "cluster": 0,
          "country": "Albania",
          "health": 76,
          "income": 10620,
          "population": 2896679
         },
         {
          "cluster": 0,
          "country": "Algeria",
          "health": 76.5,
          "income": 13434,
          "population": 39666519
         },
         {
          "cluster": 0,
          "country": "Andorra",
          "health": 84.1,
          "income": 46577,
          "population": 70473
         },
         {
          "cluster": 1,
          "country": "Angola",
          "health": 61,
          "income": 7615,
          "population": 25021974
         },
         {
          "cluster": 0,
          "country": "Antigua and Barbuda",
          "health": 75.2,
          "income": 21049,
          "population": 91818
         },
         {
          "cluster": 0,
          "country": "Argentina",
          "health": 76.2,
          "income": 17344,
          "population": 43416755
         },
         {
          "cluster": 1,
          "country": "Armenia",
          "health": 74.4,
          "income": 7763,
          "population": 3017712
         },
         {
          "cluster": 0,
          "country": "Australia",
          "health": 81.8,
          "income": 44056,
          "population": 23968973
         },
         {
          "cluster": 0,
          "country": "Austria",
          "health": 81,
          "income": 44401,
          "population": 8544586
         },
         {
          "cluster": 0,
          "country": "Azerbaijan",
          "health": 72.9,
          "income": 16986,
          "population": 9753968
         },
         {
          "cluster": 0,
          "country": "Bahamas",
          "health": 72.3,
          "income": 22818,
          "population": 388019
         },
         {
          "cluster": 0,
          "country": "Bahrain",
          "health": 79.2,
          "income": 44138,
          "population": 1377237
         },
         {
          "cluster": 1,
          "country": "Bangladesh",
          "health": 70.1,
          "income": 3161,
          "population": 160995642
         },
         {
          "cluster": 0,
          "country": "Barbados",
          "health": 75.8,
          "income": 12984,
          "population": 284215
         },
         {
          "cluster": 1,
          "country": "Belarus",
          "health": 70.4,
          "income": 17415,
          "population": 9495826
         },
         {
          "cluster": 0,
          "country": "Belgium",
          "health": 80.4,
          "income": 41240,
          "population": 11299192
         },
         {
          "cluster": 1,
          "country": "Belize",
          "health": 70,
          "income": 8501,
          "population": 359287
         },
         {
          "cluster": 1,
          "country": "Benin",
          "health": 65.5,
          "income": 1830,
          "population": 10879829
         },
         {
          "cluster": 1,
          "country": "Bhutan",
          "health": 70.2,
          "income": 7983,
          "population": 774830
         },
         {
          "cluster": 1,
          "country": "Bolivia",
          "health": 72.3,
          "income": 6295,
          "population": 10724705
         },
         {
          "cluster": 0,
          "country": "Bosnia and Herzegovina",
          "health": 77.9,
          "income": 9833,
          "population": 3810416
         },
         {
          "cluster": 1,
          "country": "Botswana",
          "health": 66.4,
          "income": 17196,
          "population": 2262485
         },
         {
          "cluster": 0,
          "country": "Brazil",
          "health": 75.6,
          "income": 15441,
          "population": 207847528
         },
         {
          "cluster": 0,
          "country": "Brunei",
          "health": 78.7,
          "income": 73003,
          "population": 423188
         },
         {
          "cluster": 0,
          "country": "Bulgaria",
          "health": 74.9,
          "income": 16371,
          "population": 7149787
         },
         {
          "cluster": 1,
          "country": "Burkina Faso",
          "health": 62.8,
          "income": 1654,
          "population": 18105570
         },
         {
          "cluster": 1,
          "country": "Burundi",
          "health": 60.4,
          "income": 777,
          "population": 11178921
         },
         {
          "cluster": 1,
          "country": "Cambodia",
          "health": 68.4,
          "income": 3267,
          "population": 15577899
         },
         {
          "cluster": 1,
          "country": "Cameroon",
          "health": 59.5,
          "income": 2897,
          "population": 23344179
         },
         {
          "cluster": 0,
          "country": "Canada",
          "health": 81.7,
          "income": 43294,
          "population": 35939927
         },
         {
          "cluster": 1,
          "country": "Cape Verde",
          "health": 74.6,
          "income": 6514,
          "population": 520502
         },
         {
          "cluster": 1,
          "country": "Central African Republic",
          "health": 53.8,
          "income": 599,
          "population": 4900274
         },
         {
          "cluster": 1,
          "country": "Chad",
          "health": 57.7,
          "income": 2191,
          "population": 14037472
         },
         {
          "cluster": 0,
          "country": "Chile",
          "health": 79.3,
          "income": 22465,
          "population": 17948141
         },
         {
          "cluster": 2,
          "country": "China",
          "health": 76.9,
          "income": 13334,
          "population": 1376048943
         },
         {
          "cluster": 0,
          "country": "Colombia",
          "health": 75.8,
          "income": 12761,
          "population": 48228704
         },
         {
          "cluster": 1,
          "country": "Comoros",
          "health": 64.1,
          "income": 1472,
          "population": 788474
         },
         {
          "cluster": 1,
          "country": "Congo, Dem. Rep.",
          "health": 58.3,
          "income": 809,
          "population": 77266814
         },
         {
          "cluster": 1,
          "country": "Congo, Rep.",
          "health": 61.9,
          "income": 6220,
          "population": 4620330
         },
         {
          "cluster": 0,
          "country": "Costa Rica",
          "health": 80,
          "income": 14132,
          "population": 4807850
         },
         {
          "cluster": 1,
          "country": "Cote d'Ivoire",
          "health": 60.33,
          "income": 3491,
          "population": 22701556
         },
         {
          "cluster": 0,
          "country": "Croatia",
          "health": 78,
          "income": 20260,
          "population": 4240317
         },
         {
          "cluster": 0,
          "country": "Cuba",
          "health": 78.5,
          "income": 21291,
          "population": 11389562
         },
         {
          "cluster": 0,
          "country": "Cyprus",
          "health": 82.6,
          "income": 29797,
          "population": 1165300
         },
         {
          "cluster": 0,
          "country": "Czech Republic",
          "health": 78.6,
          "income": 29437,
          "population": 10543186
         },
         {
          "cluster": 0,
          "country": "Denmark",
          "health": 80.1,
          "income": 43495,
          "population": 5669081
         },
         {
          "cluster": 1,
          "country": "Djibouti",
          "health": 64.63,
          "income": 3139,
          "population": 887861
         },
         {
          "cluster": 0,
          "country": "Dominica",
          "health": 74.6,
          "income": 10503,
          "population": 72680
         },
         {
          "cluster": 0,
          "country": "Dominican Republic",
          "health": 73.8,
          "income": 12837,
          "population": 10528391
         },
         {
          "cluster": 0,
          "country": "Ecuador",
          "health": 75.2,
          "income": 10996,
          "population": 16144363
         },
         {
          "cluster": 1,
          "country": "Egypt",
          "health": 71.3,
          "income": 11031,
          "population": 91508084
         },
         {
          "cluster": 1,
          "country": "El Salvador",
          "health": 74.1,
          "income": 7776,
          "population": 6126583
         },
         {
          "cluster": 1,
          "country": "Equatorial Guinea",
          "health": 60.63,
          "income": 31087,
          "population": 845060
         },
         {
          "cluster": 1,
          "country": "Eritrea",
          "health": 62.9,
          "income": 1129,
          "population": 5227791
         },
         {
          "cluster": 0,
          "country": "Estonia",
          "health": 76.8,
          "income": 26812,
          "population": 1312558
         },
         {
          "cluster": 1,
          "country": "Ethiopia",
          "health": 63.6,
          "income": 1520,
          "population": 99390750
         },
         {
          "cluster": 1,
          "country": "Fiji",
          "health": 66.3,
          "income": 7925,
          "population": 892145
         },
         {
          "cluster": 0,
          "country": "Finland",
          "health": 80.8,
          "income": 38923,
          "population": 5503457
         },
         {
          "cluster": 0,
          "country": "France",
          "health": 81.9,
          "income": 37599,
          "population": 64395345
         },
         {
          "cluster": 1,
          "country": "Gabon",
          "health": 60.53,
          "income": 18627,
          "population": 1725292
         },
         {
          "cluster": 1,
          "country": "Gambia",
          "health": 65.1,
          "income": 1644,
          "population": 1990924
         },
         {
          "cluster": 1,
          "country": "Georgia",
          "health": 73.3,
          "income": 7474,
          "population": 3999812
         },
         {
          "cluster": 0,
          "country": "Germany",
          "health": 81.1,
          "income": 44053,
          "population": 80688545
         },
         {
          "cluster": 1,
          "country": "Ghana",
          "health": 65.5,
          "income": 4099,
          "population": 27409893
         },
         {
          "cluster": 0,
          "country": "Greece",
          "health": 79.8,
          "income": 25430,
          "population": 10954617
         },
         {
          "cluster": 1,
          "country": "Grenada",
          "health": 71.7,
          "income": 11593,
          "population": 106825
         },
         {
          "cluster": 1,
          "country": "Guatemala",
          "health": 73.1,
          "income": 7279,
          "population": 16342897
         },
         {
          "cluster": 1,
          "country": "Guinea",
          "health": 60.8,
          "income": 1225,
          "population": 12608590
         },
         {
          "cluster": 1,
          "country": "Guinea-Bissau",
          "health": 53.4,
          "income": 1386,
          "population": 1844325
         },
         {
          "cluster": 1,
          "country": "Guyana",
          "health": 64.4,
          "income": 6816,
          "population": 767085
         },
         {
          "cluster": 1,
          "country": "Haiti",
          "health": 65.3,
          "income": 1710,
          "population": 10711067
         },
         {
          "cluster": 1,
          "country": "Honduras",
          "health": 72.4,
          "income": 4270,
          "population": 8075060
         },
         {
          "cluster": 0,
          "country": "Hungary",
          "health": 76.2,
          "income": 24200,
          "population": 9855023
         },
         {
          "cluster": 0,
          "country": "Iceland",
          "health": 82.8,
          "income": 42182,
          "population": 329425
         },
         {
          "cluster": 2,
          "country": "India",
          "health": 66.8,
          "income": 5903,
          "population": 1311050527
         },
         {
          "cluster": 1,
          "country": "Indonesia",
          "health": 70.9,
          "income": 10504,
          "population": 257563815
         },
         {
          "cluster": 0,
          "country": "Iran",
          "health": 78.5,
          "income": 15573,
          "population": 79109272
         },
         {
          "cluster": 1,
          "country": "Iraq",
          "health": 72.1,
          "income": 14646,
          "population": 36423395
         },
         {
          "cluster": 0,
          "country": "Ireland",
          "health": 80.4,
          "income": 47758,
          "population": 4688465
         },
         {
          "cluster": 0,
          "country": "Israel",
          "health": 82.4,
          "income": 31590,
          "population": 8064036
         },
         {
          "cluster": 0,
          "country": "Italy",
          "health": 82.1,
          "income": 33297,
          "population": 59797685
         },
         {
          "cluster": 0,
          "country": "Jamaica",
          "health": 75.5,
          "income": 8606,
          "population": 2793335
         },
         {
          "cluster": 0,
          "country": "Japan",
          "health": 83.5,
          "income": 36162,
          "population": 126573481
         },
         {
          "cluster": 0,
          "country": "Jordan",
          "health": 78.3,
          "income": 11752,
          "population": 7594547
         },
         {
          "cluster": 1,
          "country": "Kazakhstan",
          "health": 68.2,
          "income": 23468,
          "population": 17625226
         },
         {
          "cluster": 1,
          "country": "Kenya",
          "health": 66.63,
          "income": 2898,
          "population": 46050302
         },
         {
          "cluster": 1,
          "country": "Kiribati",
          "health": 62.4,
          "income": 1824,
          "population": 112423
         },
         {
          "cluster": 0,
          "country": "Kuwait",
          "health": 80.7,
          "income": 82633,
          "population": 3892115
         },
         {
          "cluster": 1,
          "country": "Kyrgyz Republic",
          "health": 69,
          "income": 3245,
          "population": 5939962
         },
         {
          "cluster": 1,
          "country": "Lao",
          "health": 66.4,
          "income": 5212,
          "population": 6802023
         },
         {
          "cluster": 0,
          "country": "Latvia",
          "health": 75.7,
          "income": 23282,
          "population": 1970503
         },
         {
          "cluster": 0,
          "country": "Lebanon",
          "health": 78.5,
          "income": 17050,
          "population": 5850743
         },
         {
          "cluster": 1,
          "country": "Lesotho",
          "health": 48.5,
          "income": 2598,
          "population": 2135022
         },
         {
          "cluster": 1,
          "country": "Liberia",
          "health": 63.9,
          "income": 958,
          "population": 4503438
         },
         {
          "cluster": 0,
          "country": "Libya",
          "health": 76.2,
          "income": 17261,
          "population": 6278438
         },
         {
          "cluster": 0,
          "country": "Lithuania",
          "health": 75.4,
          "income": 26665,
          "population": 2878405
         },
         {
          "cluster": 0,
          "country": "Luxembourg",
          "health": 81.1,
          "income": 88314,
          "population": 567110
         },
         {
          "cluster": 0,
          "country": "Macedonia, FYR",
          "health": 77,
          "income": 12547,
          "population": 2078453
         },
         {
          "cluster": 1,
          "country": "Madagascar",
          "health": 64.7,
          "income": 1400,
          "population": 24235390
         },
         {
          "cluster": 1,
          "country": "Malawi",
          "health": 60.22,
          "income": 799,
          "population": 17215232
         },
         {
          "cluster": 0,
          "country": "Malaysia",
          "health": 75.1,
          "income": 24320,
          "population": 30331007
         },
         {
          "cluster": 0,
          "country": "Maldives",
          "health": 79.5,
          "income": 14408,
          "population": 363657
         },
         {
          "cluster": 1,
          "country": "Mali",
          "health": 57.6,
          "income": 1684,
          "population": 17599694
         },
         {
          "cluster": 0,
          "country": "Malta",
          "health": 82.1,
          "income": 30265,
          "population": 418670
         },
         {
          "cluster": 1,
          "country": "Marshall Islands",
          "health": 65.1,
          "income": 3661,
          "population": 52993
         },
         {
          "cluster": 1,
          "country": "Mauritania",
          "health": 65.7,
          "income": 3877,
          "population": 4067564
         },
         {
          "cluster": 0,
          "country": "Mauritius",
          "health": 73.9,
          "income": 18350,
          "population": 1273212
         },
         {
          "cluster": 0,
          "country": "Mexico",
          "health": 74.5,
          "income": 16850,
          "population": 127017224
         },
         {
          "cluster": 1,
          "country": "Micronesia, Fed. Sts.",
          "health": 67,
          "income": 3510,
          "population": 104460
         },
         {
          "cluster": 1,
          "country": "Moldova",
          "health": 72.7,
          "income": 4896,
          "population": 4068897
         },
         {
          "cluster": 1,
          "country": "Mongolia",
          "health": 65.3,
          "income": 11819,
          "population": 2959134
         },
         {
          "cluster": 0,
          "country": "Montenegro",
          "health": 75.8,
          "income": 14833,
          "population": 625781
         },
         {
          "cluster": 1,
          "country": "Morocco",
          "health": 74.7,
          "income": 7319,
          "population": 34377511
         },
         {
          "cluster": 1,
          "country": "Mozambique",
          "health": 56.4,
          "income": 1176,
          "population": 27977863
         },
         {
          "cluster": 1,
          "country": "Myanmar",
          "health": 67.9,
          "income": 4012,
          "population": 53897154
         },
         {
          "cluster": 1,
          "country": "Namibia",
          "health": 61,
          "income": 10040,
          "population": 2458830
         },
         {
          "cluster": 1,
          "country": "Nepal",
          "health": 71.2,
          "income": 2352,
          "population": 28513700
         },
         {
          "cluster": 0,
          "country": "Netherlands",
          "health": 80.6,
          "income": 45784,
          "population": 16924929
         },
         {
          "cluster": 0,
          "country": "New Zealand",
          "health": 80.6,
          "income": 34186,
          "population": 4528526
         },
         {
          "cluster": 0,
          "country": "Nicaragua",
          "health": 76.8,
          "income": 4712,
          "population": 6082032
         },
         {
          "cluster": 1,
          "country": "Niger",
          "health": 62.2,
          "income": 943,
          "population": 19899120
         },
         {
          "cluster": 1,
          "country": "Nigeria",
          "health": 61.33,
          "income": 5727,
          "population": 182201962
         },
         {
          "cluster": 1,
          "country": "North Korea",
          "health": 71.4,
          "income": 1390,
          "population": 25155317
         },
         {
          "cluster": 0,
          "country": "Norway",
          "health": 81.6,
          "income": 64304,
          "population": 5210967
         },
         {
          "cluster": 0,
          "country": "Oman",
          "health": 75.7,
          "income": 48226,
          "population": 4490541
         },
         {
          "cluster": 1,
          "country": "Pakistan",
          "health": 66.5,
          "income": 4743,
          "population": 188924874
         },
         {
          "cluster": 0,
          "country": "Panama",
          "health": 78.2,
          "income": 20485,
          "population": 3929141
         },
         {
          "cluster": 1,
          "country": "Papua New Guinea",
          "health": 60.6,
          "income": 2529,
          "population": 7619321
         },
         {
          "cluster": 1,
          "country": "Paraguay",
          "health": 73.9,
          "income": 8219,
          "population": 6639123
         },
         {
          "cluster": 0,
          "country": "Peru",
          "health": 77.5,
          "income": 11903,
          "population": 31376670
         },
         {
          "cluster": 1,
          "country": "Philippines",
          "health": 70.2,
          "income": 6876,
          "population": 100699395
         },
         {
          "cluster": 0,
          "country": "Poland",
          "health": 77.3,
          "income": 24787,
          "population": 38611794
         },
         {
          "cluster": 0,
          "country": "Portugal",
          "health": 79.8,
          "income": 26437,
          "population": 10349803
         },
         {
          "cluster": 0,
          "country": "Qatar",
          "health": 82,
          "income": 132877,
          "population": 2235355
         },
         {
          "cluster": 0,
          "country": "Romania",
          "health": 76.8,
          "income": 19203,
          "population": 19511324
         },
         {
          "cluster": 0,
          "country": "Russia",
          "health": 73.13,
          "income": 23038,
          "population": 143456918
         },
         {
          "cluster": 1,
          "country": "Rwanda",
          "health": 66.53,
          "income": 1549,
          "population": 11609666
         },
         {
          "cluster": 1,
          "country": "Samoa",
          "health": 72.2,
          "income": 5558,
          "population": 193228
         },
         {
          "cluster": 1,
          "country": "Sao Tome and Principe",
          "health": 68.8,
          "income": 3003,
          "population": 190344
         },
         {
          "cluster": 0,
          "country": "Saudi Arabia",
          "health": 78.1,
          "income": 52469,
          "population": 31540372
         },
         {
          "cluster": 1,
          "country": "Senegal",
          "health": 66.1,
          "income": 2251,
          "population": 15129273
         },
         {
          "cluster": 0,
          "country": "Serbia",
          "health": 78.1,
          "income": 12908,
          "population": 8850975
         },
         {
          "cluster": 0,
          "country": "Seychelles",
          "health": 73.7,
          "income": 25684,
          "population": 96471
         },
         {
          "cluster": 1,
          "country": "Sierra Leone",
          "health": 58.5,
          "income": 2085,
          "population": 6453184
         },
         {
          "cluster": 0,
          "country": "Singapore",
          "health": 82.1,
          "income": 80794,
          "population": 5603740
         },
         {
          "cluster": 0,
          "country": "Slovak Republic",
          "health": 76.4,
          "income": 27204,
          "population": 5426258
         },
         {
          "cluster": 0,
          "country": "Slovenia",
          "health": 80.2,
          "income": 28550,
          "population": 2067526
         },
         {
          "cluster": 1,
          "country": "Solomon Islands",
          "health": 64.1,
          "income": 2047,
          "population": 583591
         },
         {
          "cluster": 1,
          "country": "Somalia",
          "health": 58.7,
          "income": 624,
          "population": 10787104
         },
         {
          "cluster": 1,
          "country": "South Africa",
          "health": 63.72,
          "income": 12509,
          "population": 54490406
         },
         {
          "cluster": 0,
          "country": "South Korea",
          "health": 80.7,
          "income": 34644,
          "population": 50293439
         },
         {
          "cluster": 1,
          "country": "South Sudan",
          "health": 58,
          "income": 3047,
          "population": 12339812
         },
         {
          "cluster": 0,
          "country": "Spain",
          "health": 81.7,
          "income": 32979,
          "population": 46121699
         },
         {
          "cluster": 0,
          "country": "Sri Lanka",
          "health": 76.5,
          "income": 10624,
          "population": 20715010
         },
         {
          "cluster": 0,
          "country": "St. Lucia",
          "health": 74.5,
          "income": 9997,
          "population": 184999
         },
         {
          "cluster": 1,
          "country": "St. Vincent and the Grenadines",
          "health": 72.9,
          "income": 10435,
          "population": 109462
         },
         {
          "cluster": 1,
          "country": "Sudan",
          "health": 69.5,
          "income": 3975,
          "population": 40234882
         },
         {
          "cluster": 1,
          "country": "Suriname",
          "health": 70.5,
          "income": 17125,
          "population": 542975
         },
         {
          "cluster": 1,
          "country": "Swaziland",
          "health": 51.5,
          "income": 6095,
          "population": 1286970
         },
         {
          "cluster": 0,
          "country": "Sweden",
          "health": 82,
          "income": 44892,
          "population": 9779426
         },
         {
          "cluster": 0,
          "country": "Switzerland",
          "health": 82.9,
          "income": 56118,
          "population": 8298663
         },
         {
          "cluster": 1,
          "country": "Syria",
          "health": 70.26,
          "income": 4637,
          "population": 18502413
         },
         {
          "cluster": 1,
          "country": "Tajikistan",
          "health": 71,
          "income": 2582,
          "population": 8481855
         },
         {
          "cluster": 1,
          "country": "Tanzania",
          "health": 63.43,
          "income": 2571,
          "population": 53470420
         },
         {
          "cluster": 0,
          "country": "Thailand",
          "health": 75.1,
          "income": 14512,
          "population": 67959359
         },
         {
          "cluster": 1,
          "country": "Timor-Leste",
          "health": 72.4,
          "income": 2086,
          "population": 1184765
         },
         {
          "cluster": 1,
          "country": "Togo",
          "health": 64.23,
          "income": 1433,
          "population": 7304578
         },
         {
          "cluster": 1,
          "country": "Tonga",
          "health": 70.5,
          "income": 5069,
          "population": 106170
         },
         {
          "cluster": 0,
          "country": "Trinidad and Tobago",
          "health": 71.4,
          "income": 30113,
          "population": 1360088
         },
         {
          "cluster": 0,
          "country": "Tunisia",
          "health": 77.3,
          "income": 11126,
          "population": 11253554
         },
         {
          "cluster": 0,
          "country": "Turkey",
          "health": 76.5,
          "income": 19360,
          "population": 78665830
         },
         {
          "cluster": 1,
          "country": "Turkmenistan",
          "health": 67.9,
          "income": 15865,
          "population": 5373502
         },
         {
          "cluster": 1,
          "country": "Uganda",
          "health": 60.8,
          "income": 1680,
          "population": 39032383
         },
         {
          "cluster": 1,
          "country": "Ukraine",
          "health": 72.1,
          "income": 8449,
          "population": 44823765
         },
         {
          "cluster": 0,
          "country": "United Arab Emirates",
          "health": 76.6,
          "income": 60749,
          "population": 9156963
         },
         {
          "cluster": 0,
          "country": "United Kingdom",
          "health": 81.4,
          "income": 38225,
          "population": 64715810
         },
         {
          "cluster": 0,
          "country": "United States",
          "health": 79.1,
          "income": 53354,
          "population": 321773631
         },
         {
          "cluster": 0,
          "country": "Uruguay",
          "health": 77.3,
          "income": 20438,
          "population": 3431555
         },
         {
          "cluster": 1,
          "country": "Uzbekistan",
          "health": 70.1,
          "income": 5598,
          "population": 29893488
         },
         {
          "cluster": 1,
          "country": "Vanuatu",
          "health": 65,
          "income": 2912,
          "population": 264652
         },
         {
          "cluster": 0,
          "country": "Venezuela",
          "health": 75.8,
          "income": 15753,
          "population": 31108083
         },
         {
          "cluster": 0,
          "country": "Vietnam",
          "health": 76.5,
          "income": 5623,
          "population": 93447601
         },
         {
          "cluster": 1,
          "country": "West Bank and Gaza",
          "health": 75.2,
          "income": 4319,
          "population": 4668466
         },
         {
          "cluster": 1,
          "country": "Yemen",
          "health": 67.6,
          "income": 3887,
          "population": 26832215
         },
         {
          "cluster": 1,
          "country": "Zambia",
          "health": 58.96,
          "income": 4034,
          "population": 16211767
         },
         {
          "cluster": 1,
          "country": "Zimbabwe",
          "health": 60.01,
          "income": 1801,
          "population": 15602751
         }
        ]
       },
       "repeat": {
        "column": [
         "population",
         "health",
         "income"
        ],
        "row": [
         "income",
         "health",
         "population"
        ]
       },
       "spec": {
        "data": {
         "name": "data-b4eab7f2a5ded6b5f9a4430cf193a51b"
        },
        "encoding": {
         "color": {
          "field": "cluster",
          "type": "nominal"
         },
         "x": {
          "field": {
           "repeat": "column"
          },
          "type": "quantitative"
         },
         "y": {
          "field": {
           "repeat": "row"
          },
          "type": "quantitative"
         }
        },
        "height": 150,
        "mark": {
         "opacity": 0.5,
         "type": "circle"
        },
        "width": 150
       }
      },
      "image/png": "[encoded data removed]",
      "text/plain": [
       "<VegaLite 3 object>\n",
       "\n",
       "If you see this message, it means the renderer has not been properly enabled\n",
       "for the frontend that you are using. For more information, see\n",
       "https://altair-viz.github.io/user_guide/troubleshooting.html\n"
      ]
     },
     "execution_count": 9,
     "metadata": {},
     "output_type": "execute_result"
    }
   ],
   "source": [
    "alt.Chart(gapminder).mark_circle(opacity=0.5).encode(\n",
    "    alt.X(alt.repeat(\"column\"), type='quantitative'),\n",
    "    alt.Y(alt.repeat(\"row\"), type='quantitative'),\n",
    "    color='cluster:N'\n",
    ").properties(\n",
    "    width=150,\n",
    "    height=150\n",
    ").repeat(\n",
    "    row=['income','health','population'],\n",
    "    column=['population','health','income']\n",
    ")"
   ]
  },
  {
   "cell_type": "markdown",
   "metadata": {
    "Collapsed": "true"
   },
   "source": [
    "### 4. Regla del codo (1 pto)"
   ]
  },
  {
   "cell_type": "markdown",
   "metadata": {
    "Collapsed": "false"
   },
   "source": [
    "__¿Cómo escoger la mejor cantidad de _clusters_?__\n",
    "\n",
    "En este ejercicio hemos utilizado que el número de clusters es igual a 3. El ajuste del modelo siempre será mejor al aumentar el número de clusters, pero ello no significa que el número de clusters sea el apropiado. De hecho, si tenemos que ajustar $n$ puntos, claramente tomar $n$ clusters generaría un ajuste perfecto, pero no permitiría representar si existen realmente agrupaciones de datos.\n",
    "\n",
    "Cuando no se conoce el número de clusters a priori, se utiliza la [regla del codo](https://jarroba.com/seleccion-del-numero-optimo-clusters/), que indica que el número más apropiado es aquel donde \"cambia la pendiente\" de decrecimiento de la la suma de las distancias a los clusters para cada punto, en función del número de clusters.\n",
    "\n",
    "A continuación se provee el código para el caso de clustering sobre los datos estandarizados, leídos directamente de un archivo preparado especialmente."
   ]
  },
  {
   "cell_type": "code",
   "execution_count": 10,
   "metadata": {
    "Collapsed": "false"
   },
   "outputs": [],
   "source": [
    "elbow = pd.Series(name=\"inertia\").rename_axis(index=\"k\")\n",
    "for k in range(1, 10):\n",
    "    kmeans = KMeans(n_clusters=k, random_state=42).fit(X)\n",
    "    elbow.loc[k] = kmeans.inertia_ # Inertia: Sum of distances of samples to their closest cluster center\n",
    "elbow = elbow.reset_index()"
   ]
  },
  {
   "cell_type": "code",
   "execution_count": 11,
   "metadata": {
    "Collapsed": "false"
   },
   "outputs": [
    {
     "data": {
      "application/vnd.vegalite.v3+json": {
       "$schema": "https://vega.github.io/schema/vega-lite/v3.4.0.json",
       "config": {
        "background": "white",
        "mark": {
         "tooltip": null
        },
        "view": {
         "height": 300,
         "width": 400
        }
       },
       "data": {
        "name": "data-89e8a243efd9c446b72fd93a4ddd74d3"
       },
       "datasets": {
        "data-89e8a243efd9c446b72fd93a4ddd74d3": [
         {
          "inertia": 561,
          "k": 1
         },
         {
          "inertia": 364.6264878813227,
          "k": 2
         },
         {
          "inertia": 196.34136229738849,
          "k": 3
         },
         {
          "inertia": 109.4566355852737,
          "k": 4
         },
         {
          "inertia": 80.72009578392846,
          "k": 5
         },
         {
          "inertia": 65.32820161551821,
          "k": 6
         },
         {
          "inertia": 56.22094244777031,
          "k": 7
         },
         {
          "inertia": 49.748744168068725,
          "k": 8
         },
         {
          "inertia": 43.779465204544145,
          "k": 9
         }
        ]
       },
       "encoding": {
        "x": {
         "field": "k",
         "type": "ordinal"
        },
        "y": {
         "field": "inertia",
         "type": "quantitative"
        }
       },
       "height": 600,
       "mark": {
        "point": true,
        "type": "line"
       },
       "width": 800
      },
      "image/png": "[encoded data removed]",
      "text/plain": [
       "<VegaLite 3 object>\n",
       "\n",
       "If you see this message, it means the renderer has not been properly enabled\n",
       "for the frontend that you are using. For more information, see\n",
       "https://altair-viz.github.io/user_guide/troubleshooting.html\n"
      ]
     },
     "execution_count": 11,
     "metadata": {},
     "output_type": "execute_result"
    }
   ],
   "source": [
    "alt.Chart(elbow).mark_line(point=True).encode(\n",
    "    x=\"k:O\",\n",
    "    y=\"inertia:Q\"\n",
    ").properties(\n",
    "    height=600,\n",
    "    width=800\n",
    ")"
   ]
  },
  {
   "cell_type": "markdown",
   "metadata": {
    "Collapsed": "false"
   },
   "source": [
    "__Pregunta__\n",
    "\n",
    "Considerando los datos (países) y el gráfico anterior, ¿Cuántos clusters escogerías?"
   ]
  },
  {
   "cell_type": "markdown",
   "metadata": {
    "Collapsed": "false"
   },
   "source": [
    "3 o 4, pues son puntos donde cambia la curva de una manera mas abrupta. Si hay que elegir uno sería el 4. La grafica de población mostraria que con 3 estaría bien, pero al agregar otro foco en el principal, se tendriá lo elegido."
   ]
  }
 ],
 "metadata": {
  "celltoolbar": "Slideshow",
  "kernelspec": {
   "display_name": "Python 3",
   "language": "python",
   "name": "python3"
  },
  "language_info": {
   "codemirror_mode": {
    "name": "ipython",
    "version": 3
   },
   "file_extension": ".py",
   "mimetype": "text/x-python",
   "name": "python",
   "nbconvert_exporter": "python",
   "pygments_lexer": "ipython3",
   "version": "3.7.6"
  }
 },
 "nbformat": 4,
 "nbformat_minor": 4
}
